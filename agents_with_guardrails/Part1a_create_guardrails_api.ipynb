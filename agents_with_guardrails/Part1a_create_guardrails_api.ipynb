{
 "cells": [
  {
   "cell_type": "markdown",
   "id": "01a63de9-6ff8-4ca5-9910-27a13799047d",
   "metadata": {},
   "source": [
    "### Guardrails for Amazon Bedrock - Examples using the Python SDK\n",
    "\n",
    "\n",
    "<center><img src=\"images/MLU-NEW-logo.png\" alt=\"drawing\" width=\"400\" style=\"background-color:white; padding:1em;\" /></center> <br/>\n",
    "\n",
    "# <a name=\"0\">Adversarial Robustness using Bedrock Agents and Bedrock Guardrails</a>\n",
    "\n",
    "## <a name=\"0\"> Part 1a: Create a Bedrock based Guardrail to prevent Fiduciary/Financial advice </a>\n",
    "\n",
    "## Notebook Overview\n",
    "\n",
    "\n",
    "This repository on Robustness, uses Bedrock Agents and Bedrock Guardrails to demonstrate Adversarial Robustness efficacy.\n",
    "\n",
    "- 1a. [THIS NOTEBOOK] Create Guardrail against fiduciary advice\n",
    "\n",
    "- 1b.  Demonstrate bedrock agents - retail bot use-case WITHOUT guardrails to show the adversarial robustness concern.\n",
    "\n",
    "- 1c.  Demonstrate bedrock agents - retail bot use-case WITH guardrails to improve and evaluate the adversarial robustness concern.\n",
    "\n",
    "In this part 1a,  we will create a Bedrock Guardrail with the intention to block/deny a retail-bot using Bedrock agent from giving any financial or fiduciary advice.\n",
    "\n",
    "##### Notebook Kernel\n",
    "Please choose `conda_python3` as the kernel type of the top right corner of the notebook if that does not appear by default.\n",
    "\n",
    "\n",
    "<div style=\"border: 4px solid coral; text-align: left; margin: auto; padding-left: 20px; padding-right: 20px\">\n",
    "    <h4>This notebook automatically cleans up resources to be frugal. </h4>\n",
    "    You can visit this section (<a href=\"#9\"> Clean-up Resources</a>) to change the setting if you need to experiment with prompts and settings. Please run clean-up resources after you are done with experiments. <br/>\n",
    "</div>\n",
    "<br/>\n",
    "\n",
    "In this use-case, we use Bedrock Guardrails API (https://docs.aws.amazon.com/bedrock/latest/userguide/guardrails.html) with BOTO3 to create a bedrock guardrail that prevents fiduciary/financial advice.\n",
    "\n",
    "This notebook will demonstrate how to create your first agent for Bedrock using the Boto3 SDK:\n",
    "\n",
    "1. Create a Amazon Bedrock Guardrail using Boto3 API\n",
    "2. Listing and creating Guardrail versions \n",
    "3. Updating Guardrails\n",
    "4. Unit-testing Bedrock Guardrails\n",
    "5. Capture the guardrailId and guardrailArn\n",
    "\n",
    "\n",
    "\n",
    "We provide a step-by-step guide of creating and listing bedrock guardrails using guardrails API via Boto3. \n",
    "\n",
    "This notebook has the following sections:\n",
    "\n",
    "1. <a href=\"#1\">Create a Amazon Bedrock Guardrail using BOTO3 API</a>\n",
    "2. <a href=\"#2\">Listing and creating Guardrail versions </a>\n",
    "3. <a href=\"#3\"> Updating Guardrails</a>\n",
    "4. <a href=\"#4\"> Unit-testing Bedrock Guardrails </a>\n",
    "4. <a href=\"#5\"> [Notebook Takeaway] Capture the guardrailId and guardrailArn </a>\n",
    "\n",
    "    \n",
    "Please work top to bottom of this notebook and don't skip sections as this could lead to error messages due to missing code.\n",
    "\n",
    "---\n"
   ]
  },
  {
   "cell_type": "markdown",
   "id": "9ae6c616-67f4-42c5-8479-6e521f373335",
   "metadata": {},
   "source": [
    "\n",
    "Guardrails for Amazon Bedrock evaluates user inputs and FM responses based on use case specific policies, and provides an additional layer of safeguards regardless of the underlying FM. Guardrails can be applied across all large language models (LLMs) on Amazon Bedrock, including fine-tuned models. Customers can create multiple guardrails, each configured with a different combination of controls, and use these guardrails across different applications and use cases. \n"
   ]
  },
  {
   "cell_type": "code",
   "execution_count": 1,
   "id": "a3742f60-6efc-493a-a887-0cd34ccdd684",
   "metadata": {
    "tags": []
   },
   "outputs": [],
   "source": [
    "%%capture\n",
    "#Start by installing the dependencies to ensure we have a recent version\n",
    "!pip install --upgrade --force-reinstall boto3\n"
   ]
  },
  {
   "cell_type": "code",
   "execution_count": 2,
   "id": "770b438e-2a2b-4a38-a5d7-648af8d86256",
   "metadata": {
    "tags": []
   },
   "outputs": [
    {
     "name": "stdout",
     "output_type": "stream",
     "text": [
      "1.34.132\n"
     ]
    }
   ],
   "source": [
    "import boto3\n",
    "print(boto3.__version__)"
   ]
  },
  {
   "cell_type": "code",
   "execution_count": 3,
   "id": "a62adfd9-77dc-4f02-9934-ac4f59cf04b5",
   "metadata": {
    "tags": []
   },
   "outputs": [],
   "source": [
    "client = boto3.client('bedrock')"
   ]
  },
  {
   "cell_type": "markdown",
   "id": "54ce254e-3f00-4fb1-996e-ed4887e083c6",
   "metadata": {},
   "source": [
    "## <a name=\"1\"> Create a Amazon Bedrock Guardrail using BOTO3 API </a>\n",
    "(<a href=\"#0\">Go to top</a>)\n"
   ]
  },
  {
   "cell_type": "markdown",
   "id": "647e0936-bb5e-4b42-9bd7-f9bf62c927c9",
   "metadata": {},
   "source": [
    "Guardrails for Amazon Bedrock have multiple components which include Content Filters, Denied Topics, Word and Phrase Filters, and Sensitive Word (PII & Regex) Filters. For a full list check out the [documentation](https://docs.aws.amazon.com/bedrock/latest/userguide/guardrails-create.html) "
   ]
  },
  {
   "cell_type": "code",
   "execution_count": 4,
   "id": "555dac9b-f33b-412d-aec3-ef586d2fcdd8",
   "metadata": {
    "tags": []
   },
   "outputs": [
    {
     "name": "stdout",
     "output_type": "stream",
     "text": [
      "{'ResponseMetadata': {'RequestId': 'd49d3700-0ea5-4de9-95f0-2897d7f3eb3f', 'HTTPStatusCode': 202, 'HTTPHeaders': {'date': 'Tue, 25 Jun 2024 01:03:45 GMT', 'content-type': 'application/json', 'content-length': '172', 'connection': 'keep-alive', 'x-amzn-requestid': 'd49d3700-0ea5-4de9-95f0-2897d7f3eb3f'}, 'RetryAttempts': 0}, 'guardrailId': 'npv8r9lgjo92', 'guardrailArn': 'arn:aws:bedrock:us-east-1:757420736997:guardrail/npv8r9lgjo92', 'version': 'DRAFT', 'createdAt': datetime.datetime(2024, 6, 25, 1, 3, 45, 379844, tzinfo=tzlocal())}\n"
     ]
    }
   ],
   "source": [
    "# We'll create a guardrail to prevent providing Fiduciary Advice\n",
    "\n",
    "create_response = client.create_guardrail(\n",
    "    name='fiduciary-advice-v2',\n",
    "    description='Prevents the our model from providing fiduciary advice.',\n",
    "    topicPolicyConfig={\n",
    "        'topicsConfig': [\n",
    "            {\n",
    "                'name': 'Fiduciary Advice v2',\n",
    "                'definition': 'Providing personalized advice or recommendations on managing financial assets, investments, or trusts in a fiduciary capacity or assuming related obligations and liabilities.',\n",
    "                'examples': [\n",
    "                    'What stocks should I invest in for my retirement?',\n",
    "                    'Is it a good idea to put my money in a mutual fund?',\n",
    "                    'How should I allocate my 401(k) investments?',\n",
    "                    'What type of trust fund should I set up for my children?',\n",
    "                    'Should I hire a financial advisor to manage my investments?'\n",
    "                ],\n",
    "                'type': 'DENY'\n",
    "            }\n",
    "        ]\n",
    "    },\n",
    "   contentPolicyConfig={\n",
    "    'filtersConfig': [\n",
    "        {\n",
    "            'type': 'SEXUAL',\n",
    "            'inputStrength': 'HIGH',\n",
    "            'outputStrength': 'HIGH'\n",
    "        },\n",
    "        {\n",
    "            'type': 'VIOLENCE',\n",
    "            'inputStrength': 'HIGH',\n",
    "            'outputStrength': 'HIGH'\n",
    "        },\n",
    "        {\n",
    "            'type': 'HATE',\n",
    "            'inputStrength': 'HIGH',\n",
    "            'outputStrength': 'HIGH'\n",
    "        },\n",
    "        {\n",
    "            'type': 'INSULTS',\n",
    "            'inputStrength': 'HIGH',\n",
    "            'outputStrength': 'HIGH'\n",
    "        },\n",
    "        {\n",
    "            'type': 'MISCONDUCT',\n",
    "            'inputStrength': 'HIGH',\n",
    "            'outputStrength': 'HIGH'\n",
    "        },\n",
    "        {\n",
    "            'type': 'PROMPT_ATTACK',\n",
    "            'inputStrength': 'HIGH',\n",
    "            'outputStrength': 'NONE'\n",
    "        }\n",
    "    ]\n",
    "\n",
    "    },\n",
    "wordPolicyConfig={\n",
    "    'wordsConfig': [\n",
    "        {\n",
    "            'text': 'fiduciary advice'\n",
    "        },\n",
    "        {\n",
    "            'text': 'investment recommendations'\n",
    "        },\n",
    "        {\n",
    "            'text': 'stock picks'\n",
    "        },\n",
    "        {\n",
    "            'text': 'financial planning guidance'\n",
    "        },\n",
    "        {\n",
    "            'text': 'portfolio allocation advice'\n",
    "        },\n",
    "        {\n",
    "            'text': 'retirement fund suggestions'\n",
    "        },\n",
    "        {\n",
    "            'text': 'wealth management tips'\n",
    "        },\n",
    "        {\n",
    "            'text': 'trust fund setup'\n",
    "        },\n",
    "        {\n",
    "            'text': 'investment strategy'\n",
    "        },\n",
    "        {\n",
    "            'text': 'financial advisor recommendations'\n",
    "        }\n",
    "    ],\n",
    "    'managedWordListsConfig': [\n",
    "        {\n",
    "            'type': 'PROFANITY'\n",
    "        }\n",
    "    ]\n",
    "},\n",
    "sensitiveInformationPolicyConfig={\n",
    "    'piiEntitiesConfig': [\n",
    "        {\n",
    "            'type': 'EMAIL',\n",
    "            'action': 'ANONYMIZE'\n",
    "        },\n",
    "        {\n",
    "            'type': 'PHONE',\n",
    "            'action': 'ANONYMIZE'\n",
    "        },\n",
    "        {\n",
    "            'type': 'NAME',\n",
    "            'action': 'ANONYMIZE'\n",
    "        },\n",
    "        {\n",
    "            'type': 'US_SOCIAL_SECURITY_NUMBER',\n",
    "            'action': 'BLOCK'\n",
    "        },\n",
    "        {\n",
    "            'type': 'US_BANK_ACCOUNT_NUMBER',\n",
    "            'action': 'BLOCK'\n",
    "        },\n",
    "        {\n",
    "            'type': 'CREDIT_DEBIT_CARD_NUMBER',\n",
    "            'action': 'BLOCK'\n",
    "        }\n",
    "    ],\n",
    "    'regexesConfig': [\n",
    "        {\n",
    "            'name': 'Account Number',\n",
    "            'description': 'Matches account numbers in the format XXXXXX1234',\n",
    "            'pattern': r'\\b\\d{6}\\d{4}\\b',\n",
    "            'action': 'ANONYMIZE'\n",
    "        }\n",
    "    ]\n",
    "},\n",
    "    blockedInputMessaging='I apologize, but I am not able to provide fiduciary advice. Additionally, it seems that you may have included some sensitive personal or financial information in your request. For your privacy and security, please modify your input and try again without including any personal, financial, or restricted details.',\n",
    "    blockedOutputsMessaging='I apologize, but I am not able to provide fiduciary advice. Additionally, it seems that you may have included some sensitive personal or financial information in your request. For your privacy and security, please modify your input and try again without including any personal, financial, or restricted details.',\n",
    ")\n",
    "\n",
    "print(create_response)"
   ]
  },
  {
   "cell_type": "markdown",
   "id": "dd772d5a-331c-46c3-9a9b-755862c75aa5",
   "metadata": {},
   "source": [
    "## <a name=\"2\"> Listing and creating Guardrail versions </a>\n",
    "(<a href=\"#0\">Go to top</a>)"
   ]
  },
  {
   "cell_type": "code",
   "execution_count": 5,
   "id": "e0848a6e-e024-4a2d-8e42-103b0acb3f7e",
   "metadata": {
    "tags": []
   },
   "outputs": [],
   "source": [
    "#This will provide all the data about the DRAFT version we have\n",
    "get_response = client.get_guardrail(\n",
    "    guardrailIdentifier=create_response['guardrailId'],\n",
    "    guardrailVersion='DRAFT'\n",
    ")\n"
   ]
  },
  {
   "cell_type": "code",
   "execution_count": 6,
   "id": "27b15614-2e95-4da4-bf11-9f9fd8bf8432",
   "metadata": {
    "tags": []
   },
   "outputs": [],
   "source": [
    "# Now let's create a version for our Guardrail \n",
    "version_response = client.create_guardrail_version(\n",
    "    guardrailIdentifier=create_response['guardrailId'],\n",
    "    description='Version of Guardrail that has HIGH content filters across'\n",
    ")"
   ]
  },
  {
   "cell_type": "code",
   "execution_count": 7,
   "id": "10607853-d5b0-46e2-828c-08c4602600e9",
   "metadata": {
    "tags": []
   },
   "outputs": [
    {
     "name": "stdout",
     "output_type": "stream",
     "text": [
      "{'ResponseMetadata': {'RequestId': '6bf80c86-f5a1-4511-9521-1f9102206f7d', 'HTTPStatusCode': 200, 'HTTPHeaders': {'date': 'Tue, 25 Jun 2024 01:03:46 GMT', 'content-type': 'application/json', 'content-length': '675', 'connection': 'keep-alive', 'x-amzn-requestid': '6bf80c86-f5a1-4511-9521-1f9102206f7d'}, 'RetryAttempts': 0}, 'guardrails': [{'id': 'npv8r9lgjo92', 'arn': 'arn:aws:bedrock:us-east-1:757420736997:guardrail/npv8r9lgjo92', 'status': 'VERSIONING', 'name': 'fiduciary-advice-v2', 'description': 'Prevents the our model from providing fiduciary advice.', 'version': 'DRAFT', 'createdAt': datetime.datetime(2024, 6, 25, 1, 3, 45, 379844, tzinfo=tzlocal()), 'updatedAt': datetime.datetime(2024, 6, 25, 1, 3, 45, 486525, tzinfo=tzlocal())}, {'id': 'npv8r9lgjo92', 'arn': 'arn:aws:bedrock:us-east-1:757420736997:guardrail/npv8r9lgjo92', 'status': 'CREATING', 'name': 'fiduciary-advice-v2', 'description': 'Version of Guardrail that has HIGH content filters across', 'version': '1', 'createdAt': datetime.datetime(2024, 6, 25, 1, 3, 46, 27295, tzinfo=tzlocal()), 'updatedAt': datetime.datetime(2024, 6, 25, 1, 3, 46, 27295, tzinfo=tzlocal())}]}\n"
     ]
    }
   ],
   "source": [
    "# To list the DRAFT version of all your guardrails, don’t specify the guardrailIdentifier field. To list all versions of a guardrail, specify the ARN of the guardrail in the guardrailIdentifier field.\n",
    "list_guardrails_response = client.list_guardrails(\n",
    "    guardrailIdentifier=create_response['guardrailArn'],\n",
    "    maxResults=5)\n",
    "\n",
    "print(list_guardrails_response)"
   ]
  },
  {
   "cell_type": "markdown",
   "id": "6dc515bd-bff8-4803-b714-d1209cd83f78",
   "metadata": {},
   "source": [
    "## <a name=\"3\"> Updating Guardrails and list versions </a>\n",
    "(<a href=\"#0\">Go to top</a>)"
   ]
  },
  {
   "cell_type": "markdown",
   "id": "e7aa93e2-7272-431a-a8b0-685529a3ce11",
   "metadata": {},
   "source": [
    "Let's update the Guardrail but this time modify one of our content filters."
   ]
  },
  {
   "cell_type": "code",
   "execution_count": 10,
   "id": "609abf95-cacd-4c9e-a458-68316a946d71",
   "metadata": {
    "tags": []
   },
   "outputs": [],
   "source": [
    "# Updating the Guardrail by providing another adjusting our Content Filter strength \n",
    "\n",
    "response = client.update_guardrail(\n",
    "    guardrailIdentifier=create_response['guardrailArn'],\n",
    "    name='fiduciary-advice-v2',\n",
    "    description='Prevents the our model from providing fiduciary advice.',\n",
    "    topicPolicyConfig={\n",
    "        'topicsConfig': [\n",
    "            {\n",
    "                'name': 'Fiduciary Advice',\n",
    "                'definition': 'Avoid providing guidance on managing financial assets, investments, or trusts to prevent fiduciary responsibility.',\n",
    "                'examples': [\n",
    "                    'What stocks should I invest in for my retirement?',\n",
    "                    'Is it a good idea to put my money in a mutual fund?',\n",
    "                    'How should I allocate my 401(k) investments?',\n",
    "                    'What type of trust fund should I set up for my children?',\n",
    "                    'Should I hire a financial advisor to manage my investments?'\n",
    "                ],\n",
    "                'type': 'DENY'\n",
    "            }\n",
    "        ]\n",
    "    },\n",
    "   contentPolicyConfig={\n",
    "    'filtersConfig': [\n",
    "        {\n",
    "            'type': 'SEXUAL',\n",
    "            'inputStrength': 'HIGH',\n",
    "            'outputStrength': 'HIGH'\n",
    "        },\n",
    "        {\n",
    "            'type': 'VIOLENCE',\n",
    "            'inputStrength': 'HIGH',\n",
    "            'outputStrength': 'HIGH'\n",
    "        },\n",
    "        {\n",
    "            'type': 'HATE',\n",
    "            'inputStrength': 'HIGH',\n",
    "            'outputStrength': 'MEDIUM' #field that was edited\n",
    "        },\n",
    "        {\n",
    "            'type': 'INSULTS',\n",
    "            'inputStrength': 'HIGH',\n",
    "            'outputStrength': 'HIGH'\n",
    "        },\n",
    "        {\n",
    "            'type': 'MISCONDUCT',\n",
    "            'inputStrength': 'HIGH',\n",
    "            'outputStrength': 'HIGH'\n",
    "        },\n",
    "        {\n",
    "            'type': 'PROMPT_ATTACK',\n",
    "            'inputStrength': 'HIGH',\n",
    "            'outputStrength': 'NONE'\n",
    "        }\n",
    "    ]\n",
    "\n",
    "    },\n",
    "wordPolicyConfig={\n",
    "    'wordsConfig': [\n",
    "        {\n",
    "            'text': 'fiduciary advice'\n",
    "        },\n",
    "        {\n",
    "            'text': 'investment recommendations'\n",
    "        },\n",
    "        {\n",
    "            'text': 'stock picks'\n",
    "        },\n",
    "        {\n",
    "            'text': 'financial planning guidance'\n",
    "        },\n",
    "        {\n",
    "            'text': 'portfolio allocation advice'\n",
    "        },\n",
    "        {\n",
    "            'text': 'retirement fund suggestions'\n",
    "        },\n",
    "        {\n",
    "            'text': 'wealth management tips'\n",
    "        },\n",
    "        {\n",
    "            'text': 'trust fund setup'\n",
    "        },\n",
    "        {\n",
    "            'text': 'investment strategy'\n",
    "        },\n",
    "        {\n",
    "            'text': 'financial advisor recommendations'\n",
    "        }\n",
    "    ],\n",
    "    'managedWordListsConfig': [\n",
    "        {\n",
    "            'type': 'PROFANITY'\n",
    "        }\n",
    "    ]\n",
    "},\n",
    "sensitiveInformationPolicyConfig={\n",
    "    'piiEntitiesConfig': [\n",
    "        {\n",
    "            'type': 'EMAIL',\n",
    "            'action': 'ANONYMIZE'\n",
    "        },\n",
    "        {\n",
    "            'type': 'PHONE',\n",
    "            'action': 'ANONYMIZE'\n",
    "        },\n",
    "        {\n",
    "            'type': 'NAME',\n",
    "            'action': 'ANONYMIZE'\n",
    "        },\n",
    "        {\n",
    "            'type': 'US_SOCIAL_SECURITY_NUMBER',\n",
    "            'action': 'BLOCK'\n",
    "        },\n",
    "        {\n",
    "            'type': 'US_BANK_ACCOUNT_NUMBER',\n",
    "            'action': 'BLOCK'\n",
    "        },\n",
    "        {\n",
    "            'type': 'CREDIT_DEBIT_CARD_NUMBER',\n",
    "            'action': 'BLOCK'\n",
    "        }\n",
    "    ],\n",
    "    'regexesConfig': [\n",
    "        {\n",
    "            'name': 'Account Number',\n",
    "            'description': 'Matches account numbers in the format XXXXXX1234',\n",
    "            'pattern': r'\\b\\d{6}\\d{4}\\b',\n",
    "            'action': 'ANONYMIZE'\n",
    "        }\n",
    "    ]\n",
    "},\n",
    "    blockedInputMessaging='I apologize, but I am not able to provide fiduciary advice. Additionally, it seems that you may have included some sensitive personal or financial information in your request. For your privacy and security, please modify your input and try again without including any personal, financial, or restricted details.',\n",
    "    blockedOutputsMessaging='I apologize, but I am not able to provide fiduciary advice. Additionally, it seems that you may have included some sensitive personal or financial information in your request. For your privacy and security, please modify your input and try again without including any personal, financial, or restricted details.',\n",
    ")"
   ]
  },
  {
   "cell_type": "code",
   "execution_count": 11,
   "id": "2558579b-9e44-4f35-91f7-72fbeccd9b0f",
   "metadata": {
    "tags": []
   },
   "outputs": [
    {
     "name": "stdout",
     "output_type": "stream",
     "text": [
      "{'ResponseMetadata': {'RequestId': '9fe5f0dc-c8c3-4815-aff9-5ed2aab329ab', 'HTTPStatusCode': 200, 'HTTPHeaders': {'date': 'Tue, 25 Jun 2024 01:04:22 GMT', 'content-type': 'application/json', 'content-length': '2904', 'connection': 'keep-alive', 'x-amzn-requestid': '9fe5f0dc-c8c3-4815-aff9-5ed2aab329ab'}, 'RetryAttempts': 0}, 'name': 'fiduciary-advice-v2', 'description': 'Prevents the our model from providing fiduciary advice.', 'guardrailId': 'npv8r9lgjo92', 'guardrailArn': 'arn:aws:bedrock:us-east-1:757420736997:guardrail/npv8r9lgjo92', 'version': 'DRAFT', 'status': 'READY', 'topicPolicy': {'topics': [{'name': 'Fiduciary Advice', 'definition': 'Avoid providing guidance on managing financial assets, investments, or trusts to prevent fiduciary responsibility.', 'examples': ['What stocks should I invest in for my retirement?', 'Is it a good idea to put my money in a mutual fund?', 'How should I allocate my 401(k) investments?', 'What type of trust fund should I set up for my children?', 'Should I hire a financial advisor to manage my investments?'], 'type': 'DENY'}]}, 'contentPolicy': {'filters': [{'type': 'SEXUAL', 'inputStrength': 'HIGH', 'outputStrength': 'HIGH'}, {'type': 'VIOLENCE', 'inputStrength': 'HIGH', 'outputStrength': 'HIGH'}, {'type': 'HATE', 'inputStrength': 'HIGH', 'outputStrength': 'MEDIUM'}, {'type': 'INSULTS', 'inputStrength': 'HIGH', 'outputStrength': 'HIGH'}, {'type': 'MISCONDUCT', 'inputStrength': 'HIGH', 'outputStrength': 'HIGH'}, {'type': 'PROMPT_ATTACK', 'inputStrength': 'HIGH', 'outputStrength': 'NONE'}]}, 'wordPolicy': {'words': [{'text': 'fiduciary advice'}, {'text': 'investment recommendations'}, {'text': 'stock picks'}, {'text': 'financial planning guidance'}, {'text': 'portfolio allocation advice'}, {'text': 'retirement fund suggestions'}, {'text': 'wealth management tips'}, {'text': 'trust fund setup'}, {'text': 'investment strategy'}, {'text': 'financial advisor recommendations'}], 'managedWordLists': [{'type': 'PROFANITY'}]}, 'sensitiveInformationPolicy': {'piiEntities': [{'type': 'EMAIL', 'action': 'ANONYMIZE'}, {'type': 'PHONE', 'action': 'ANONYMIZE'}, {'type': 'NAME', 'action': 'ANONYMIZE'}, {'type': 'US_SOCIAL_SECURITY_NUMBER', 'action': 'BLOCK'}, {'type': 'US_BANK_ACCOUNT_NUMBER', 'action': 'BLOCK'}, {'type': 'CREDIT_DEBIT_CARD_NUMBER', 'action': 'BLOCK'}], 'regexes': [{'name': 'Account Number', 'description': 'Matches account numbers in the format XXXXXX1234', 'pattern': '\\\\b\\\\d{6}\\\\d{4}\\\\b', 'action': 'ANONYMIZE'}]}, 'createdAt': datetime.datetime(2024, 6, 25, 1, 3, 45, tzinfo=tzlocal()), 'updatedAt': datetime.datetime(2024, 6, 25, 1, 4, 13, 751441, tzinfo=tzlocal()), 'statusReasons': [], 'failureRecommendations': [], 'blockedInputMessaging': 'I apologize, but I am not able to provide fiduciary advice. Additionally, it seems that you may have included some sensitive personal or financial information in your request. For your privacy and security, please modify your input and try again without including any personal, financial, or restricted details.', 'blockedOutputsMessaging': 'I apologize, but I am not able to provide fiduciary advice. Additionally, it seems that you may have included some sensitive personal or financial information in your request. For your privacy and security, please modify your input and try again without including any personal, financial, or restricted details.'}\n"
     ]
    }
   ],
   "source": [
    "# Let's now get all of our updates \n",
    "get_response = client.get_guardrail(\n",
    "    guardrailIdentifier=create_response['guardrailId'],\n",
    "    guardrailVersion='DRAFT'\n",
    ")\n",
    "print(get_response)"
   ]
  },
  {
   "cell_type": "code",
   "execution_count": 12,
   "id": "870a1d86-8aaa-4115-b0a2-7743d58f799f",
   "metadata": {
    "tags": []
   },
   "outputs": [],
   "source": [
    "# Create a new Version from our updates \n",
    "version_response = client.create_guardrail_version(\n",
    "    guardrailIdentifier=create_response['guardrailId'],\n",
    "    description='Version of Guardrail that has a MEDIUM Hate Filter'\n",
    ")"
   ]
  },
  {
   "cell_type": "code",
   "execution_count": 13,
   "id": "39caa831-0be9-4414-ad0c-fcc9d34d0a24",
   "metadata": {
    "tags": []
   },
   "outputs": [],
   "source": [
    "# Get all of our Guardrails \n",
    "list_guardrails_response = client.list_guardrails(\n",
    "    guardrailIdentifier=create_response['guardrailArn'],\n",
    "    maxResults=5)"
   ]
  },
  {
   "cell_type": "code",
   "execution_count": 14,
   "id": "7c0d14a7-8521-40a5-943e-b52325334fd8",
   "metadata": {
    "tags": []
   },
   "outputs": [
    {
     "data": {
      "text/plain": [
       "{'ResponseMetadata': {'RequestId': '9fc530fb-8765-4db7-9285-2a47e096eba7',\n",
       "  'HTTPStatusCode': 200,\n",
       "  'HTTPHeaders': {'date': 'Tue, 25 Jun 2024 01:04:29 GMT',\n",
       "   'content-type': 'application/json',\n",
       "   'content-length': '946',\n",
       "   'connection': 'keep-alive',\n",
       "   'x-amzn-requestid': '9fc530fb-8765-4db7-9285-2a47e096eba7'},\n",
       "  'RetryAttempts': 0},\n",
       " 'guardrails': [{'id': 'npv8r9lgjo92',\n",
       "   'arn': 'arn:aws:bedrock:us-east-1:757420736997:guardrail/npv8r9lgjo92',\n",
       "   'status': 'READY',\n",
       "   'name': 'fiduciary-advice-v2',\n",
       "   'description': 'Prevents the our model from providing fiduciary advice.',\n",
       "   'version': 'DRAFT',\n",
       "   'createdAt': datetime.datetime(2024, 6, 25, 1, 3, 45, tzinfo=tzlocal()),\n",
       "   'updatedAt': datetime.datetime(2024, 6, 25, 1, 4, 28, 436278, tzinfo=tzlocal())},\n",
       "  {'id': 'npv8r9lgjo92',\n",
       "   'arn': 'arn:aws:bedrock:us-east-1:757420736997:guardrail/npv8r9lgjo92',\n",
       "   'status': 'READY',\n",
       "   'name': 'fiduciary-advice-v2',\n",
       "   'description': 'Version of Guardrail that has HIGH content filters across',\n",
       "   'version': '1',\n",
       "   'createdAt': datetime.datetime(2024, 6, 25, 1, 3, 46, tzinfo=tzlocal()),\n",
       "   'updatedAt': datetime.datetime(2024, 6, 25, 1, 3, 46, 574443, tzinfo=tzlocal())},\n",
       "  {'id': 'npv8r9lgjo92',\n",
       "   'arn': 'arn:aws:bedrock:us-east-1:757420736997:guardrail/npv8r9lgjo92',\n",
       "   'status': 'READY',\n",
       "   'name': 'fiduciary-advice-v2',\n",
       "   'description': 'Version of Guardrail that has a MEDIUM Hate Filter',\n",
       "   'version': '2',\n",
       "   'createdAt': datetime.datetime(2024, 6, 25, 1, 4, 27, tzinfo=tzlocal()),\n",
       "   'updatedAt': datetime.datetime(2024, 6, 25, 1, 4, 28, 436309, tzinfo=tzlocal())}]}"
      ]
     },
     "execution_count": 14,
     "metadata": {},
     "output_type": "execute_result"
    }
   ],
   "source": [
    "list_guardrails_response"
   ]
  },
  {
   "cell_type": "markdown",
   "id": "bdb55085-f731-4bcc-8556-29daf06ba235",
   "metadata": {},
   "source": [
    "## <a name=\"4\"> Unit-testing Bedrock Guardrails </a>\n",
    "(<a href=\"#0\">Go to top</a>)"
   ]
  },
  {
   "cell_type": "code",
   "execution_count": 15,
   "id": "6975d7dd-1257-4bd4-8329-b39b84e3a75f",
   "metadata": {
    "tags": []
   },
   "outputs": [],
   "source": [
    "# use the bedrock run-time client to invoke the guardrails\n",
    "import json\n",
    "bedrock_runtime = boto3.client('bedrock-runtime')"
   ]
  },
  {
   "cell_type": "code",
   "execution_count": 16,
   "id": "97c7a51e-5f38-4243-a462-5e1589b08116",
   "metadata": {
    "tags": []
   },
   "outputs": [
    {
     "name": "stdout",
     "output_type": "stream",
     "text": [
      "{\"type\":\"message\",\"role\":\"assistant\",\"content\":[{\"type\":\"text\",\"text\":\"I apologize, but I am not able to provide fiduciary advice. Additionally, it seems that you may have included some sensitive personal or financial information in your request. For your privacy and security, please modify your input and try again without including any personal, financial, or restricted details.\"}],\"amazon-bedrock-trace\":{\"guardrail\":{\"input\":{\"npv8r9lgjo92\":{\"topicPolicy\":{\"topics\":[{\"name\":\"Fiduciary Advice\",\"type\":\"DENY\",\"action\":\"BLOCKED\"}]}}}}},\"amazon-bedrock-guardrailAction\":\"INTERVENED\"}\n"
     ]
    }
   ],
   "source": [
    "# Build our request to Bedrock, we will test our second version\n",
    "\n",
    "payload = {\n",
    "    \"modelId\": \"anthropic.claude-3-haiku-20240307-v1:0\",\n",
    "    \"contentType\": \"application/json\",\n",
    "    \"accept\": \"application/json\",\n",
    "    \"body\": {\n",
    "        \"anthropic_version\": \"bedrock-2023-05-31\",\n",
    "        \"max_tokens\": 1000,\n",
    "        \"messages\": [\n",
    "            {\n",
    "                \"role\": \"user\",\n",
    "                \"content\": [\n",
    "                    {\n",
    "                        \"type\": \"text\",\n",
    "                        \"text\": \"How should I invest for my retirement? I want to be able to generate $5,000 a month\"\n",
    "                    }\n",
    "                ]\n",
    "            }\n",
    "        ]\n",
    "    }\n",
    "}\n",
    "\n",
    "# Convert the payload to bytes\n",
    "body_bytes = json.dumps(payload['body']).encode('utf-8')\n",
    "\n",
    "# Invoke the model\n",
    "response = bedrock_runtime.invoke_model(\n",
    "    body = body_bytes,\n",
    "    contentType = payload['contentType'],\n",
    "    accept = payload['accept'],\n",
    "    modelId = payload['modelId'],\n",
    "    guardrailIdentifier = create_response['guardrailId'], \n",
    "    guardrailVersion =\"2\", \n",
    "    trace = \"ENABLED\"\n",
    ")\n",
    "\n",
    "# Print the response\n",
    "response_body = response['body'].read().decode('utf-8')\n",
    "print(response_body)\n"
   ]
  },
  {
   "cell_type": "markdown",
   "id": "e3c9370d-b303-4726-94ad-83c0b4db56e2",
   "metadata": {
    "tags": []
   },
   "source": [
    "## <a name=\"5\"> Notebook Takeaway : Capture the guardrailId and guardrailArn </a>\n",
    "(<a href=\"#0\">Go to top</a>)\n",
    "\n"
   ]
  },
  {
   "cell_type": "markdown",
   "id": "050c0fe3-23fe-4597-98f4-4e962cb38fff",
   "metadata": {},
   "source": [
    "From the guardrail create and update API calls, we can capture the guardrail parameters (`guardrailId` and `guardrailArn`) to associate them with Bedrock Agents in the next notebook. An example parameter:value is (DO NOT USE THESE SAMPLE VALUES)\n",
    "\n",
    " - `guardrailId: an9l3icjg3kj` \n",
    " - `guardrailArn: arn:aws:bedrock:us-east-1:757420736997:guardrail/an9l3icjg3kj`"
   ]
  },
  {
   "cell_type": "code",
   "execution_count": 24,
   "id": "362eef29-cacc-4069-b934-cc758ae189bb",
   "metadata": {
    "tags": []
   },
   "outputs": [
    {
     "data": {
      "text/plain": [
       "'npv8r9lgjo92'"
      ]
     },
     "execution_count": 24,
     "metadata": {},
     "output_type": "execute_result"
    }
   ],
   "source": [
    "# the guardrailId created in this notebook and to be used\n",
    "create_response['guardrailId']"
   ]
  },
  {
   "cell_type": "code",
   "execution_count": 23,
   "id": "08280232-783d-4ed9-bc41-71470898231f",
   "metadata": {},
   "outputs": [
    {
     "data": {
      "text/plain": [
       "'arn:aws:bedrock:us-east-1:757420736997:guardrail/npv8r9lgjo92'"
      ]
     },
     "execution_count": 23,
     "metadata": {},
     "output_type": "execute_result"
    }
   ],
   "source": [
    "# the guardrailArn created in this notebook and to be used\n",
    "create_response['guardrailArn']"
   ]
  },
  {
   "cell_type": "code",
   "execution_count": null,
   "id": "9f55e9f4-389c-4cbf-88da-d7d1bb4db9d5",
   "metadata": {},
   "outputs": [],
   "source": []
  }
 ],
 "metadata": {
  "availableInstances": [
   {
    "_defaultOrder": 0,
    "_isFastLaunch": true,
    "category": "General purpose",
    "gpuNum": 0,
    "hideHardwareSpecs": false,
    "memoryGiB": 4,
    "name": "ml.t3.medium",
    "vcpuNum": 2
   },
   {
    "_defaultOrder": 1,
    "_isFastLaunch": false,
    "category": "General purpose",
    "gpuNum": 0,
    "hideHardwareSpecs": false,
    "memoryGiB": 8,
    "name": "ml.t3.large",
    "vcpuNum": 2
   },
   {
    "_defaultOrder": 2,
    "_isFastLaunch": false,
    "category": "General purpose",
    "gpuNum": 0,
    "hideHardwareSpecs": false,
    "memoryGiB": 16,
    "name": "ml.t3.xlarge",
    "vcpuNum": 4
   },
   {
    "_defaultOrder": 3,
    "_isFastLaunch": false,
    "category": "General purpose",
    "gpuNum": 0,
    "hideHardwareSpecs": false,
    "memoryGiB": 32,
    "name": "ml.t3.2xlarge",
    "vcpuNum": 8
   },
   {
    "_defaultOrder": 4,
    "_isFastLaunch": true,
    "category": "General purpose",
    "gpuNum": 0,
    "hideHardwareSpecs": false,
    "memoryGiB": 8,
    "name": "ml.m5.large",
    "vcpuNum": 2
   },
   {
    "_defaultOrder": 5,
    "_isFastLaunch": false,
    "category": "General purpose",
    "gpuNum": 0,
    "hideHardwareSpecs": false,
    "memoryGiB": 16,
    "name": "ml.m5.xlarge",
    "vcpuNum": 4
   },
   {
    "_defaultOrder": 6,
    "_isFastLaunch": false,
    "category": "General purpose",
    "gpuNum": 0,
    "hideHardwareSpecs": false,
    "memoryGiB": 32,
    "name": "ml.m5.2xlarge",
    "vcpuNum": 8
   },
   {
    "_defaultOrder": 7,
    "_isFastLaunch": false,
    "category": "General purpose",
    "gpuNum": 0,
    "hideHardwareSpecs": false,
    "memoryGiB": 64,
    "name": "ml.m5.4xlarge",
    "vcpuNum": 16
   },
   {
    "_defaultOrder": 8,
    "_isFastLaunch": false,
    "category": "General purpose",
    "gpuNum": 0,
    "hideHardwareSpecs": false,
    "memoryGiB": 128,
    "name": "ml.m5.8xlarge",
    "vcpuNum": 32
   },
   {
    "_defaultOrder": 9,
    "_isFastLaunch": false,
    "category": "General purpose",
    "gpuNum": 0,
    "hideHardwareSpecs": false,
    "memoryGiB": 192,
    "name": "ml.m5.12xlarge",
    "vcpuNum": 48
   },
   {
    "_defaultOrder": 10,
    "_isFastLaunch": false,
    "category": "General purpose",
    "gpuNum": 0,
    "hideHardwareSpecs": false,
    "memoryGiB": 256,
    "name": "ml.m5.16xlarge",
    "vcpuNum": 64
   },
   {
    "_defaultOrder": 11,
    "_isFastLaunch": false,
    "category": "General purpose",
    "gpuNum": 0,
    "hideHardwareSpecs": false,
    "memoryGiB": 384,
    "name": "ml.m5.24xlarge",
    "vcpuNum": 96
   },
   {
    "_defaultOrder": 12,
    "_isFastLaunch": false,
    "category": "General purpose",
    "gpuNum": 0,
    "hideHardwareSpecs": false,
    "memoryGiB": 8,
    "name": "ml.m5d.large",
    "vcpuNum": 2
   },
   {
    "_defaultOrder": 13,
    "_isFastLaunch": false,
    "category": "General purpose",
    "gpuNum": 0,
    "hideHardwareSpecs": false,
    "memoryGiB": 16,
    "name": "ml.m5d.xlarge",
    "vcpuNum": 4
   },
   {
    "_defaultOrder": 14,
    "_isFastLaunch": false,
    "category": "General purpose",
    "gpuNum": 0,
    "hideHardwareSpecs": false,
    "memoryGiB": 32,
    "name": "ml.m5d.2xlarge",
    "vcpuNum": 8
   },
   {
    "_defaultOrder": 15,
    "_isFastLaunch": false,
    "category": "General purpose",
    "gpuNum": 0,
    "hideHardwareSpecs": false,
    "memoryGiB": 64,
    "name": "ml.m5d.4xlarge",
    "vcpuNum": 16
   },
   {
    "_defaultOrder": 16,
    "_isFastLaunch": false,
    "category": "General purpose",
    "gpuNum": 0,
    "hideHardwareSpecs": false,
    "memoryGiB": 128,
    "name": "ml.m5d.8xlarge",
    "vcpuNum": 32
   },
   {
    "_defaultOrder": 17,
    "_isFastLaunch": false,
    "category": "General purpose",
    "gpuNum": 0,
    "hideHardwareSpecs": false,
    "memoryGiB": 192,
    "name": "ml.m5d.12xlarge",
    "vcpuNum": 48
   },
   {
    "_defaultOrder": 18,
    "_isFastLaunch": false,
    "category": "General purpose",
    "gpuNum": 0,
    "hideHardwareSpecs": false,
    "memoryGiB": 256,
    "name": "ml.m5d.16xlarge",
    "vcpuNum": 64
   },
   {
    "_defaultOrder": 19,
    "_isFastLaunch": false,
    "category": "General purpose",
    "gpuNum": 0,
    "hideHardwareSpecs": false,
    "memoryGiB": 384,
    "name": "ml.m5d.24xlarge",
    "vcpuNum": 96
   },
   {
    "_defaultOrder": 20,
    "_isFastLaunch": false,
    "category": "General purpose",
    "gpuNum": 0,
    "hideHardwareSpecs": true,
    "memoryGiB": 0,
    "name": "ml.geospatial.interactive",
    "supportedImageNames": [
     "sagemaker-geospatial-v1-0"
    ],
    "vcpuNum": 0
   },
   {
    "_defaultOrder": 21,
    "_isFastLaunch": true,
    "category": "Compute optimized",
    "gpuNum": 0,
    "hideHardwareSpecs": false,
    "memoryGiB": 4,
    "name": "ml.c5.large",
    "vcpuNum": 2
   },
   {
    "_defaultOrder": 22,
    "_isFastLaunch": false,
    "category": "Compute optimized",
    "gpuNum": 0,
    "hideHardwareSpecs": false,
    "memoryGiB": 8,
    "name": "ml.c5.xlarge",
    "vcpuNum": 4
   },
   {
    "_defaultOrder": 23,
    "_isFastLaunch": false,
    "category": "Compute optimized",
    "gpuNum": 0,
    "hideHardwareSpecs": false,
    "memoryGiB": 16,
    "name": "ml.c5.2xlarge",
    "vcpuNum": 8
   },
   {
    "_defaultOrder": 24,
    "_isFastLaunch": false,
    "category": "Compute optimized",
    "gpuNum": 0,
    "hideHardwareSpecs": false,
    "memoryGiB": 32,
    "name": "ml.c5.4xlarge",
    "vcpuNum": 16
   },
   {
    "_defaultOrder": 25,
    "_isFastLaunch": false,
    "category": "Compute optimized",
    "gpuNum": 0,
    "hideHardwareSpecs": false,
    "memoryGiB": 72,
    "name": "ml.c5.9xlarge",
    "vcpuNum": 36
   },
   {
    "_defaultOrder": 26,
    "_isFastLaunch": false,
    "category": "Compute optimized",
    "gpuNum": 0,
    "hideHardwareSpecs": false,
    "memoryGiB": 96,
    "name": "ml.c5.12xlarge",
    "vcpuNum": 48
   },
   {
    "_defaultOrder": 27,
    "_isFastLaunch": false,
    "category": "Compute optimized",
    "gpuNum": 0,
    "hideHardwareSpecs": false,
    "memoryGiB": 144,
    "name": "ml.c5.18xlarge",
    "vcpuNum": 72
   },
   {
    "_defaultOrder": 28,
    "_isFastLaunch": false,
    "category": "Compute optimized",
    "gpuNum": 0,
    "hideHardwareSpecs": false,
    "memoryGiB": 192,
    "name": "ml.c5.24xlarge",
    "vcpuNum": 96
   },
   {
    "_defaultOrder": 29,
    "_isFastLaunch": true,
    "category": "Accelerated computing",
    "gpuNum": 1,
    "hideHardwareSpecs": false,
    "memoryGiB": 16,
    "name": "ml.g4dn.xlarge",
    "vcpuNum": 4
   },
   {
    "_defaultOrder": 30,
    "_isFastLaunch": false,
    "category": "Accelerated computing",
    "gpuNum": 1,
    "hideHardwareSpecs": false,
    "memoryGiB": 32,
    "name": "ml.g4dn.2xlarge",
    "vcpuNum": 8
   },
   {
    "_defaultOrder": 31,
    "_isFastLaunch": false,
    "category": "Accelerated computing",
    "gpuNum": 1,
    "hideHardwareSpecs": false,
    "memoryGiB": 64,
    "name": "ml.g4dn.4xlarge",
    "vcpuNum": 16
   },
   {
    "_defaultOrder": 32,
    "_isFastLaunch": false,
    "category": "Accelerated computing",
    "gpuNum": 1,
    "hideHardwareSpecs": false,
    "memoryGiB": 128,
    "name": "ml.g4dn.8xlarge",
    "vcpuNum": 32
   },
   {
    "_defaultOrder": 33,
    "_isFastLaunch": false,
    "category": "Accelerated computing",
    "gpuNum": 4,
    "hideHardwareSpecs": false,
    "memoryGiB": 192,
    "name": "ml.g4dn.12xlarge",
    "vcpuNum": 48
   },
   {
    "_defaultOrder": 34,
    "_isFastLaunch": false,
    "category": "Accelerated computing",
    "gpuNum": 1,
    "hideHardwareSpecs": false,
    "memoryGiB": 256,
    "name": "ml.g4dn.16xlarge",
    "vcpuNum": 64
   },
   {
    "_defaultOrder": 35,
    "_isFastLaunch": false,
    "category": "Accelerated computing",
    "gpuNum": 1,
    "hideHardwareSpecs": false,
    "memoryGiB": 61,
    "name": "ml.p3.2xlarge",
    "vcpuNum": 8
   },
   {
    "_defaultOrder": 36,
    "_isFastLaunch": false,
    "category": "Accelerated computing",
    "gpuNum": 4,
    "hideHardwareSpecs": false,
    "memoryGiB": 244,
    "name": "ml.p3.8xlarge",
    "vcpuNum": 32
   },
   {
    "_defaultOrder": 37,
    "_isFastLaunch": false,
    "category": "Accelerated computing",
    "gpuNum": 8,
    "hideHardwareSpecs": false,
    "memoryGiB": 488,
    "name": "ml.p3.16xlarge",
    "vcpuNum": 64
   },
   {
    "_defaultOrder": 38,
    "_isFastLaunch": false,
    "category": "Accelerated computing",
    "gpuNum": 8,
    "hideHardwareSpecs": false,
    "memoryGiB": 768,
    "name": "ml.p3dn.24xlarge",
    "vcpuNum": 96
   },
   {
    "_defaultOrder": 39,
    "_isFastLaunch": false,
    "category": "Memory Optimized",
    "gpuNum": 0,
    "hideHardwareSpecs": false,
    "memoryGiB": 16,
    "name": "ml.r5.large",
    "vcpuNum": 2
   },
   {
    "_defaultOrder": 40,
    "_isFastLaunch": false,
    "category": "Memory Optimized",
    "gpuNum": 0,
    "hideHardwareSpecs": false,
    "memoryGiB": 32,
    "name": "ml.r5.xlarge",
    "vcpuNum": 4
   },
   {
    "_defaultOrder": 41,
    "_isFastLaunch": false,
    "category": "Memory Optimized",
    "gpuNum": 0,
    "hideHardwareSpecs": false,
    "memoryGiB": 64,
    "name": "ml.r5.2xlarge",
    "vcpuNum": 8
   },
   {
    "_defaultOrder": 42,
    "_isFastLaunch": false,
    "category": "Memory Optimized",
    "gpuNum": 0,
    "hideHardwareSpecs": false,
    "memoryGiB": 128,
    "name": "ml.r5.4xlarge",
    "vcpuNum": 16
   },
   {
    "_defaultOrder": 43,
    "_isFastLaunch": false,
    "category": "Memory Optimized",
    "gpuNum": 0,
    "hideHardwareSpecs": false,
    "memoryGiB": 256,
    "name": "ml.r5.8xlarge",
    "vcpuNum": 32
   },
   {
    "_defaultOrder": 44,
    "_isFastLaunch": false,
    "category": "Memory Optimized",
    "gpuNum": 0,
    "hideHardwareSpecs": false,
    "memoryGiB": 384,
    "name": "ml.r5.12xlarge",
    "vcpuNum": 48
   },
   {
    "_defaultOrder": 45,
    "_isFastLaunch": false,
    "category": "Memory Optimized",
    "gpuNum": 0,
    "hideHardwareSpecs": false,
    "memoryGiB": 512,
    "name": "ml.r5.16xlarge",
    "vcpuNum": 64
   },
   {
    "_defaultOrder": 46,
    "_isFastLaunch": false,
    "category": "Memory Optimized",
    "gpuNum": 0,
    "hideHardwareSpecs": false,
    "memoryGiB": 768,
    "name": "ml.r5.24xlarge",
    "vcpuNum": 96
   },
   {
    "_defaultOrder": 47,
    "_isFastLaunch": false,
    "category": "Accelerated computing",
    "gpuNum": 1,
    "hideHardwareSpecs": false,
    "memoryGiB": 16,
    "name": "ml.g5.xlarge",
    "vcpuNum": 4
   },
   {
    "_defaultOrder": 48,
    "_isFastLaunch": false,
    "category": "Accelerated computing",
    "gpuNum": 1,
    "hideHardwareSpecs": false,
    "memoryGiB": 32,
    "name": "ml.g5.2xlarge",
    "vcpuNum": 8
   },
   {
    "_defaultOrder": 49,
    "_isFastLaunch": false,
    "category": "Accelerated computing",
    "gpuNum": 1,
    "hideHardwareSpecs": false,
    "memoryGiB": 64,
    "name": "ml.g5.4xlarge",
    "vcpuNum": 16
   },
   {
    "_defaultOrder": 50,
    "_isFastLaunch": false,
    "category": "Accelerated computing",
    "gpuNum": 1,
    "hideHardwareSpecs": false,
    "memoryGiB": 128,
    "name": "ml.g5.8xlarge",
    "vcpuNum": 32
   },
   {
    "_defaultOrder": 51,
    "_isFastLaunch": false,
    "category": "Accelerated computing",
    "gpuNum": 1,
    "hideHardwareSpecs": false,
    "memoryGiB": 256,
    "name": "ml.g5.16xlarge",
    "vcpuNum": 64
   },
   {
    "_defaultOrder": 52,
    "_isFastLaunch": false,
    "category": "Accelerated computing",
    "gpuNum": 4,
    "hideHardwareSpecs": false,
    "memoryGiB": 192,
    "name": "ml.g5.12xlarge",
    "vcpuNum": 48
   },
   {
    "_defaultOrder": 53,
    "_isFastLaunch": false,
    "category": "Accelerated computing",
    "gpuNum": 4,
    "hideHardwareSpecs": false,
    "memoryGiB": 384,
    "name": "ml.g5.24xlarge",
    "vcpuNum": 96
   },
   {
    "_defaultOrder": 54,
    "_isFastLaunch": false,
    "category": "Accelerated computing",
    "gpuNum": 8,
    "hideHardwareSpecs": false,
    "memoryGiB": 768,
    "name": "ml.g5.48xlarge",
    "vcpuNum": 192
   },
   {
    "_defaultOrder": 55,
    "_isFastLaunch": false,
    "category": "Accelerated computing",
    "gpuNum": 8,
    "hideHardwareSpecs": false,
    "memoryGiB": 1152,
    "name": "ml.p4d.24xlarge",
    "vcpuNum": 96
   },
   {
    "_defaultOrder": 56,
    "_isFastLaunch": false,
    "category": "Accelerated computing",
    "gpuNum": 8,
    "hideHardwareSpecs": false,
    "memoryGiB": 1152,
    "name": "ml.p4de.24xlarge",
    "vcpuNum": 96
   },
   {
    "_defaultOrder": 57,
    "_isFastLaunch": false,
    "category": "Accelerated computing",
    "gpuNum": 0,
    "hideHardwareSpecs": false,
    "memoryGiB": 32,
    "name": "ml.trn1.2xlarge",
    "vcpuNum": 8
   },
   {
    "_defaultOrder": 58,
    "_isFastLaunch": false,
    "category": "Accelerated computing",
    "gpuNum": 0,
    "hideHardwareSpecs": false,
    "memoryGiB": 512,
    "name": "ml.trn1.32xlarge",
    "vcpuNum": 128
   },
   {
    "_defaultOrder": 59,
    "_isFastLaunch": false,
    "category": "Accelerated computing",
    "gpuNum": 0,
    "hideHardwareSpecs": false,
    "memoryGiB": 512,
    "name": "ml.trn1n.32xlarge",
    "vcpuNum": 128
   }
  ],
  "instance_type": "ml.t3.medium",
  "kernelspec": {
   "display_name": "conda_pytorch_p310",
   "language": "python",
   "name": "conda_pytorch_p310"
  },
  "language_info": {
   "codemirror_mode": {
    "name": "ipython",
    "version": 3
   },
   "file_extension": ".py",
   "mimetype": "text/x-python",
   "name": "python",
   "nbconvert_exporter": "python",
   "pygments_lexer": "ipython3",
   "version": "3.10.14"
  }
 },
 "nbformat": 4,
 "nbformat_minor": 5
}
